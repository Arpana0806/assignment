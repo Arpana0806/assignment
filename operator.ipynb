{
 "cells": [
  {
   "cell_type": "code",
   "execution_count": 1,
   "id": "14563fba-2a9f-40b8-9539-cad83d8c2db6",
   "metadata": {},
   "outputs": [
    {
     "name": "stdout",
     "output_type": "stream",
     "text": [
      "Addition:  3\n",
      "Subtraction:  1\n",
      "Multiplication:  6\n",
      "Division:  2.0\n",
      "Division:  3.0\n",
      "Division:  3.5\n",
      "Division without the remainder:  3\n",
      "Modulus:  1\n",
      "Division without the remainder:  2\n",
      "Exponential:  9\n"
     ]
    }
   ],
   "source": [
    "# Integers\n",
    "print('Addition: ', 1 + 2)\n",
    "print('Subtraction: ', 2 - 1)\n",
    "print('Multiplication: ', 2 * 3)\n",
    "print ('Division: ', 4 / 2)                         # Division in python gives floating number\n",
    "print('Division: ', 6 / 2)\n",
    "print('Division: ', 7 / 2)\n",
    "print('Division without the remainder: ', 7 // 2)   # gives without the floating number or without the remaining\n",
    "print('Modulus: ', 3 % 2)                           # Gives the remainder\n",
    "print ('Division without the remainder: ', 7 // 3)\n",
    "print('Exponential: ', 3 ** 2)        # it means 3* 3"
   ]
  },
  {
   "cell_type": "code",
   "execution_count": 3,
   "id": "1a64f165-4ea8-4806-ac49-076fd6df7082",
   "metadata": {},
   "outputs": [
    {
     "name": "stdout",
     "output_type": "stream",
     "text": [
      "floating number,pi 3.14\n",
      "floating number,gravity 9.81\n"
     ]
    }
   ],
   "source": [
    "#floating numbers\n",
    "print('floating number,pi',3.14)\n",
    "print('floating number,gravity',9.81)"
   ]
  },
  {
   "cell_type": "code",
   "execution_count": 7,
   "id": "50b28f2c-9ba9-4068-a1ed-cef6e7862d00",
   "metadata": {},
   "outputs": [
    {
     "name": "stdout",
     "output_type": "stream",
     "text": [
      "complex number: (1+1j)\n",
      "multiplying complex number: (2+0j)\n"
     ]
    }
   ],
   "source": [
    "#complex numbers\n",
    "print('complex number:',1+1j)\n",
    "print('multiplying complex number:',(1+1j)*(1-1j))"
   ]
  },
  {
   "cell_type": "code",
   "execution_count": 13,
   "id": "27001db6-03ce-4310-be3b-e38a0e91dc84",
   "metadata": {},
   "outputs": [
    {
     "name": "stdout",
     "output_type": "stream",
     "text": [
      "5\n",
      "a + b =  5\n",
      "a - b =  1\n",
      "a * b =  6\n",
      "a / b =  1.5\n",
      "a % b =  1\n",
      "a // b =  1\n",
      "a ** b =  9\n"
     ]
    }
   ],
   "source": [
    "# I should have used sum instead of total but sum is a built-in function try to avoid overriding builtin functions\n",
    "print(total) # if you don't label your print with some string, you never know from where is  the result is coming\n",
    "print('a + b = ', total)\n",
    "print('a - b = ', diff)\n",
    "print('a * b = ', product)\n",
    "print('a / b = ', division)\n",
    "print('a % b = ', remainder)\n",
    "print('a // b = ', floor_division)\n",
    "print('a ** b = ', exponential)\n"
   ]
  },
  {
   "cell_type": "code",
   "execution_count": 19,
   "id": "34c17b56-d58d-495b-87c8-ba5b5d04ba98",
   "metadata": {},
   "outputs": [
    {
     "name": "stdout",
     "output_type": "stream",
     "text": [
      "total:  7\n",
      "difference:  1\n",
      "product:  12\n",
      "division:  1.0\n",
      "remainder:  1\n"
     ]
    }
   ],
   "source": [
    "# Printing values with label\n",
    "print('total: ', total)\n",
    "print('difference: ', diff)\n",
    "print('product: ', product)\n",
    "print('division: ', div)\n",
    "print('remainder: ', remainder)\n",
    "\n"
   ]
  },
  {
   "cell_type": "code",
   "execution_count": 21,
   "id": "41a590db-7a07-4ccf-bb34-61b5aa5b8c9c",
   "metadata": {},
   "outputs": [
    {
     "name": "stdout",
     "output_type": "stream",
     "text": [
      "Area of a circle: 314.0\n"
     ]
    }
   ],
   "source": [
    "# Calculating area of a circle\n",
    "radius = 10                                 # radius of a circle\n",
    "area_of_circle = 3.14 * radius ** 2         # two * sign means exponent or power\n",
    "print('Area of a circle:', area_of_circle)\n"
   ]
  },
  {
   "cell_type": "code",
   "execution_count": 23,
   "id": "64fdb3db-6bf3-4989-8264-ffe93b3be020",
   "metadata": {},
   "outputs": [
    {
     "name": "stdout",
     "output_type": "stream",
     "text": [
      "Area of rectangle: 200\n"
     ]
    }
   ],
   "source": [
    "# Calculating area of a rectangle\n",
    "length = 10\n",
    "width = 20\n",
    "area_of_rectangle = length * width\n",
    "print('Area of rectangle:', area_of_rectangle)\n",
    "\n"
   ]
  },
  {
   "cell_type": "code",
   "execution_count": 27,
   "id": "1704eb1b-b5b0-4962-b9ba-b9367c3056a1",
   "metadata": {},
   "outputs": [
    {
     "name": "stdout",
     "output_type": "stream",
     "text": [
      "735.75 N\n",
      "True\n",
      "True\n",
      "False\n",
      "True\n",
      "True\n",
      "False\n",
      "True\n",
      "False\n",
      "True\n",
      "True\n",
      "False\n",
      "True\n",
      "True\n",
      "False\n"
     ]
    }
   ],
   "source": [
    "# Calculating a weight of an object\n",
    "mass = 75\n",
    "gravity = 9.81\n",
    "weight = mass * gravity\n",
    "print(weight, 'N')\n",
    "print(3 > 2)     # True, because 3 is greater than 2\n",
    "print(3 >= 2)    # True, because 3 is greater than 2\n",
    "print(3 < 2)     # False,  because 3 is greater than 2\n",
    "print(2 < 3)     # True, because 2 is less than 3\n",
    "print(2 <= 3)    # True, because 2 is less than 3\n",
    "print(3 == 2)    # False, because 3 is not equal to 2\n",
    "print(3 != 2)    # True, because 3 is not equal to 2\n",
    "print(len('mango') == len('avocado'))  # False\n",
    "print(len('mango') != len('avocado'))  # True\n",
    "print(len('mango') < len('avocado'))   # True\n",
    "print(len('milk') != len('meat'))      # False\n",
    "print(len('milk') == len('meat'))      # True\n",
    "print(len('tomato') == len('potato'))  # True\n",
    "print(len('python') > len('dragon'))   # False\n",
    "\n"
   ]
  },
  {
   "cell_type": "code",
   "execution_count": 29,
   "id": "e314d8f1-2615-4e68-82e3-c1494fa1c279",
   "metadata": {},
   "outputs": [
    {
     "name": "stdout",
     "output_type": "stream",
     "text": [
      "True == True:  True\n",
      "True == False:  False\n",
      "False == False: True\n",
      "True and True:  True\n",
      "True or False: True\n"
     ]
    }
   ],
   "source": [
    "# Boolean comparison\n",
    "print('True == True: ', True == True)\n",
    "print('True == False: ', True == False)\n",
    "print('False == False:', False == False)\n",
    "print('True and True: ', True and True)\n",
    "print('True or False:', True or False)\n"
   ]
  },
  {
   "cell_type": "code",
   "execution_count": 31,
   "id": "b3734354-8b35-4d17-955d-7f2dc6d54b49",
   "metadata": {},
   "outputs": [
    {
     "name": "stdout",
     "output_type": "stream",
     "text": [
      "1 is 1 True\n",
      "1 is not 2 True\n",
      "A in Asabeneh True\n",
      "B in Asabeneh False\n",
      "True\n",
      "a in an: True\n",
      "4 is 2 ** 2: True\n",
      "True\n",
      "False\n",
      "False\n",
      "True\n",
      "True\n",
      "False\n",
      "False\n",
      "False\n",
      "True\n",
      "True\n",
      "False\n"
     ]
    },
    {
     "name": "stderr",
     "output_type": "stream",
     "text": [
      "<>:2: SyntaxWarning: \"is\" with 'int' literal. Did you mean \"==\"?\n",
      "<>:3: SyntaxWarning: \"is not\" with 'int' literal. Did you mean \"!=\"?\n",
      "<>:8: SyntaxWarning: \"is\" with 'int' literal. Did you mean \"==\"?\n",
      "<>:2: SyntaxWarning: \"is\" with 'int' literal. Did you mean \"==\"?\n",
      "<>:3: SyntaxWarning: \"is not\" with 'int' literal. Did you mean \"!=\"?\n",
      "<>:8: SyntaxWarning: \"is\" with 'int' literal. Did you mean \"==\"?\n",
      "C:\\Users\\arpan\\AppData\\Local\\Temp\\ipykernel_5108\\4230409570.py:2: SyntaxWarning: \"is\" with 'int' literal. Did you mean \"==\"?\n",
      "  print('1 is 1', 1 is 1)                   # True - because the data values are the same\n",
      "C:\\Users\\arpan\\AppData\\Local\\Temp\\ipykernel_5108\\4230409570.py:3: SyntaxWarning: \"is not\" with 'int' literal. Did you mean \"!=\"?\n",
      "  print('1 is not 2', 1 is not 2)           # True - because 1 is not 2\n",
      "C:\\Users\\arpan\\AppData\\Local\\Temp\\ipykernel_5108\\4230409570.py:8: SyntaxWarning: \"is\" with 'int' literal. Did you mean \"==\"?\n",
      "  print('4 is 2 ** 2:', 4 is 2 ** 2)   # True\n"
     ]
    }
   ],
   "source": [
    "# Another way comparison \n",
    "print('1 is 1', 1 is 1)                   # True - because the data values are the same\n",
    "print('1 is not 2', 1 is not 2)           # True - because 1 is not 2\n",
    "print('A in Asabeneh', 'A' in 'Asabeneh') # True - A found in the string\n",
    "print('B in Asabeneh', 'B' in 'Asabeneh') # False -there is no uppercase B\n",
    "print('coding' in 'coding for all') # True - because coding for all has the word coding\n",
    "print('a in an:', 'a' in 'an')      # True\n",
    "print('4 is 2 ** 2:', 4 is 2 ** 2)   # True\n",
    "\n",
    "print(3 > 2 and 4 > 3) # True - because both statements are true\n",
    "print(3 > 2 and 4 < 3) # False - because the second statement is false\n",
    "print(3 < 2 and 4 < 3) # False - because both statements are false\n",
    "print(3 > 2 or 4 > 3)  # True - because both statements are true\n",
    "print(3 > 2 or 4 < 3)  # True - because one of the statement is true\n",
    "print(3 < 2 or 4 < 3)  # False - because both statements are false\n",
    "print(not 3 > 2)     # False - because 3 > 2 is true, then not True gives False\n",
    "print(not True)      # False - Negation, the not operator turns true to false\n",
    "print(not False)     # True\n",
    "print(not not True)  # True\n",
    "print(not not False) # False"
   ]
  },
  {
   "cell_type": "code",
   "execution_count": null,
   "id": "464b7138-1c20-45f1-80cb-5a22c3d661e8",
   "metadata": {},
   "outputs": [],
   "source": []
  }
 ],
 "metadata": {
  "kernelspec": {
   "display_name": "Python [conda env:base] *",
   "language": "python",
   "name": "conda-base-py"
  },
  "language_info": {
   "codemirror_mode": {
    "name": "ipython",
    "version": 3
   },
   "file_extension": ".py",
   "mimetype": "text/x-python",
   "name": "python",
   "nbconvert_exporter": "python",
   "pygments_lexer": "ipython3",
   "version": "3.12.7"
  }
 },
 "nbformat": 4,
 "nbformat_minor": 5
}
