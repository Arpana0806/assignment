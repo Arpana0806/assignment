{
 "cells": [
  {
   "cell_type": "code",
   "execution_count": 1,
   "id": "4e90a6a5-a7d5-42ef-8792-bbd886968e6f",
   "metadata": {},
   "outputs": [
    {
     "name": "stdout",
     "output_type": "stream",
     "text": [
      "5\n",
      "1\n",
      "6\n",
      "1.5\n",
      "9\n",
      "1\n",
      "1\n"
     ]
    }
   ],
   "source": [
    "\n",
    "print(3 + 2)   # addition (+)\n",
    "print(3 - 2)   # subtraction(-)\n",
    "print(3 * 2)   # multiplication(*)\n",
    "print(3 / 2)   # division(/)\n",
    "print(3 ** 2)  # exponential(**)\n",
    "print(3 % 2)   # modulus(%)\n",
    "print(3 // 2)  # floor division operator (//)"
   ]
  },
  {
   "cell_type": "code",
   "execution_count": 5,
   "id": "e9c2de82-3230-476f-b154-8ba1232bb6ff",
   "metadata": {},
   "outputs": [
    {
     "name": "stdout",
     "output_type": "stream",
     "text": [
      "<class 'int'>\n",
      "<class 'float'>\n",
      "<class 'complex'>\n",
      "<class 'str'>\n",
      "<class 'list'>\n",
      "<class 'dict'>\n",
      "<class 'set'>\n",
      "<class 'tuple'>\n",
      "<class 'bool'>\n",
      "<class 'bool'>\n"
     ]
    }
   ],
   "source": [
    "#checking data types\n",
    "print(type(10))    #int\n",
    "print(type(3.14))   #float\n",
    "print(type(1+3j))   #complex\n",
    "print(type('Asabeneh')) #string\n",
    "print(type([1,2,3]))  #list\n",
    "print(type({'name':'Asabeneh'}))  #dictionary\n",
    "print(type({9.8,3.14,2.7}))   #set\n",
    "print(type((9.8,3.14,2.7)))   #tuple\n",
    "print(type(3 == 3))          #bool\n",
    "print(type(3>=3))            #bool"
   ]
  },
  {
   "cell_type": "code",
   "execution_count": null,
   "id": "a7429f01-8cd7-42c1-8e2b-8b719005f4cc",
   "metadata": {},
   "outputs": [],
   "source": []
  }
 ],
 "metadata": {
  "kernelspec": {
   "display_name": "Python [conda env:base] *",
   "language": "python",
   "name": "conda-base-py"
  },
  "language_info": {
   "codemirror_mode": {
    "name": "ipython",
    "version": 3
   },
   "file_extension": ".py",
   "mimetype": "text/x-python",
   "name": "python",
   "nbconvert_exporter": "python",
   "pygments_lexer": "ipython3",
   "version": "3.12.7"
  }
 },
 "nbformat": 4,
 "nbformat_minor": 5
}
