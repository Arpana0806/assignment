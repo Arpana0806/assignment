{
 "cells": [
  {
   "cell_type": "code",
   "execution_count": 4,
   "id": "92bfe0e0-d2d7-4b08-9aaa-d113fa8844df",
   "metadata": {},
   "outputs": [
    {
     "name": "stdout",
     "output_type": "stream",
     "text": [
      "[10 20 30 40 50]\n"
     ]
    }
   ],
   "source": [
    "import numpy as np\n",
    "list1=[10,20,30,40,50]\n",
    "array1=np.array(list1)\n",
    "print(array1)"
   ]
  },
  {
   "cell_type": "code",
   "execution_count": 6,
   "id": "258033e0-4154-4627-93a4-8bcd5ce38e59",
   "metadata": {},
   "outputs": [
    {
     "name": "stdout",
     "output_type": "stream",
     "text": [
      "[[10 20 30]\n",
      " [40 50 60]\n",
      " [70 80 90]]\n"
     ]
    }
   ],
   "source": [
    "import numpy as np\n",
    "list1=[[10,20,30],[40,50,60],[70,80,90]]\n",
    "array1=np.array(list1)\n",
    "print(array1)"
   ]
  },
  {
   "cell_type": "code",
   "execution_count": 64,
   "id": "a10d146b-ebf1-43f2-a14e-86901da33e9e",
   "metadata": {},
   "outputs": [
    {
     "name": "stdout",
     "output_type": "stream",
     "text": [
      "[1 2 3 4 5 6 7]\n"
     ]
    }
   ],
   "source": [
    "import numpy as np\n",
    "array1=np.arange (1,8)\n",
    "print(array1)"
   ]
  },
  {
   "cell_type": "code",
   "execution_count": 68,
   "id": "cc2e4f91-a238-42b8-9ea9-e65957da7bc8",
   "metadata": {},
   "outputs": [
    {
     "name": "stdout",
     "output_type": "stream",
     "text": [
      "[[11 12 13]\n",
      " [14 15 16]]\n"
     ]
    }
   ],
   "source": [
    "import numpy as np\n",
    "array1=np.arange(11,17).reshape((2,3))\n",
    "print(array1)"
   ]
  },
  {
   "cell_type": "code",
   "execution_count": 74,
   "id": "ed0bc3c2-eb71-4656-b50d-7260040d8225",
   "metadata": {},
   "outputs": [
    {
     "name": "stdout",
     "output_type": "stream",
     "text": [
      "[[11 12]\n",
      " [13 14]\n",
      " [15 16]]\n"
     ]
    }
   ],
   "source": [
    "import numpy as np\n",
    "array1=np.arange(11,17).reshape((3,2))\n",
    "print(array1)"
   ]
  },
  {
   "cell_type": "code",
   "execution_count": 76,
   "id": "560be24a-3935-4449-b5ad-87a6a630ee8e",
   "metadata": {},
   "outputs": [
    {
     "name": "stdout",
     "output_type": "stream",
     "text": [
      "[[11 12 13]\n",
      " [14 15 16]\n",
      " [17 18 19]]\n"
     ]
    }
   ],
   "source": [
    "import numpy as np\n",
    "array1=np.arange(11,20).reshape((3,3))\n",
    "print(array1)"
   ]
  },
  {
   "cell_type": "code",
   "execution_count": 78,
   "id": "462ef999-3c5c-497c-bc05-b8563569cc29",
   "metadata": {},
   "outputs": [
    {
     "name": "stdout",
     "output_type": "stream",
     "text": [
      "[0. 0. 0. 0.]\n"
     ]
    }
   ],
   "source": [
    "import numpy as np\n",
    "array1=np.zeros(4)\n",
    "print(array1)"
   ]
  },
  {
   "cell_type": "code",
   "execution_count": 80,
   "id": "0850b091-14de-4008-ae0c-daa5b7d16a44",
   "metadata": {},
   "outputs": [
    {
     "name": "stdout",
     "output_type": "stream",
     "text": [
      "[[0. 0.]\n",
      " [0. 0.]\n",
      " [0. 0.]\n",
      " [0. 0.]]\n"
     ]
    }
   ],
   "source": [
    "import numpy as np\n",
    "array1=np.zeros((4,2))\n",
    "print(array1)"
   ]
  },
  {
   "cell_type": "code",
   "execution_count": 84,
   "id": "5194bc70-15ae-4ee7-b1a1-d02f64dbb97a",
   "metadata": {},
   "outputs": [
    {
     "name": "stdout",
     "output_type": "stream",
     "text": [
      "[[1. 1. 1. 1.]\n",
      " [1. 1. 1. 1.]]\n"
     ]
    }
   ],
   "source": [
    "import numpy as np\n",
    "array1=np.ones((2,4))\n",
    "print(array1)"
   ]
  },
  {
   "cell_type": "code",
   "execution_count": 36,
   "id": "f8aea385-79d3-4dbb-abc9-e7c96d0b9f04",
   "metadata": {},
   "outputs": [
    {
     "name": "stdout",
     "output_type": "stream",
     "text": [
      "[1. 1. 1. 1.]\n"
     ]
    }
   ],
   "source": [
    "import numpy as np\n",
    "array1=np.ones(4)\n",
    "print(array1)"
   ]
  },
  {
   "cell_type": "code",
   "execution_count": 38,
   "id": "d7783f1d-3385-4901-bee6-9bd3bda15bd3",
   "metadata": {},
   "outputs": [
    {
     "name": "stdout",
     "output_type": "stream",
     "text": [
      "[[1. 1.]\n",
      " [1. 1.]\n",
      " [1. 1.]\n",
      " [1. 1.]]\n"
     ]
    }
   ],
   "source": [
    "import numpy as np\n",
    "array1=np.ones((4,2))\n",
    "print(array1)"
   ]
  },
  {
   "cell_type": "code",
   "execution_count": 48,
   "id": "099cc078-1e97-4790-a35a-b8cd196b7f9c",
   "metadata": {},
   "outputs": [
    {
     "name": "stdout",
     "output_type": "stream",
     "text": [
      "[10 20 30 40 50]\n"
     ]
    },
    {
     "data": {
      "text/plain": [
       "1"
      ]
     },
     "execution_count": 48,
     "metadata": {},
     "output_type": "execute_result"
    }
   ],
   "source": [
    "import numpy as np\n",
    "list1=[10,20,30,40,50]\n",
    "array1=np.array(list1)\n",
    "print(array1)\n",
    "array1.ndim"
   ]
  },
  {
   "cell_type": "code",
   "execution_count": 46,
   "id": "052a0fcb-575a-49fa-bd73-d390a87f7fde",
   "metadata": {},
   "outputs": [
    {
     "name": "stdout",
     "output_type": "stream",
     "text": [
      "[[10 20 30]\n",
      " [40 50 60]\n",
      " [70 80 90]]\n"
     ]
    },
    {
     "data": {
      "text/plain": [
       "2"
      ]
     },
     "execution_count": 46,
     "metadata": {},
     "output_type": "execute_result"
    }
   ],
   "source": [
    "import numpy as np\n",
    "list1=[[10,20,30,],[40,50,60],[70,80,90]]\n",
    "array1=np.array(list1)\n",
    "print(array1)\n",
    "array1.ndim"
   ]
  },
  {
   "cell_type": "code",
   "execution_count": 122,
   "id": "c455b324-5aa6-4f71-9a5c-8666ea68cf96",
   "metadata": {},
   "outputs": [
    {
     "name": "stdout",
     "output_type": "stream",
     "text": [
      "[[[ 1  2  3]\n",
      "  [ 4  5  6]]\n",
      "\n",
      " [[ 7  8  9]\n",
      "  [10 11 12]]]\n"
     ]
    },
    {
     "data": {
      "text/plain": [
       "3"
      ]
     },
     "execution_count": 122,
     "metadata": {},
     "output_type": "execute_result"
    }
   ],
   "source": [
    "import numpy as np\n",
    "array3=np.array([[[1,2,3],[4,5,6]],\n",
    "       [[7,8,9],[10,11,12]]])\n",
    "print(array3)\n",
    "array3.ndim"
   ]
  },
  {
   "cell_type": "code",
   "execution_count": 96,
   "id": "f27466c8-6e1f-41c0-b683-62bc6b758ed9",
   "metadata": {},
   "outputs": [
    {
     "name": "stdout",
     "output_type": "stream",
     "text": [
      "[10 20 30 40 50]\n"
     ]
    },
    {
     "data": {
      "text/plain": [
       "(5,)"
      ]
     },
     "execution_count": 96,
     "metadata": {},
     "output_type": "execute_result"
    }
   ],
   "source": [
    "import numpy as np\n",
    "list1=[10,20,30,40,50]\n",
    "array1=np.array(list1)\n",
    "print(array1)\n",
    "array1.shape"
   ]
  },
  {
   "cell_type": "code",
   "execution_count": 94,
   "id": "5de5bdce-6837-483e-8b9b-3c1ba764428c",
   "metadata": {},
   "outputs": [
    {
     "name": "stdout",
     "output_type": "stream",
     "text": [
      "[[10 20 30]\n",
      " [40 50 60]\n",
      " [70 80 90]]\n"
     ]
    },
    {
     "data": {
      "text/plain": [
       "(3, 3)"
      ]
     },
     "execution_count": 94,
     "metadata": {},
     "output_type": "execute_result"
    }
   ],
   "source": [
    "import numpy as np\n",
    "list1=[[10,20,30],[40,50,60],[70,80,90]]\n",
    "array1=np.array(list1)\n",
    "print(array1)\n",
    "array1.shape"
   ]
  },
  {
   "cell_type": "code",
   "execution_count": 120,
   "id": "f1f62874-2326-4549-a1ea-afb72c7fdd70",
   "metadata": {},
   "outputs": [
    {
     "name": "stdout",
     "output_type": "stream",
     "text": [
      "[[[ 1  2  3]\n",
      "  [ 4  5  6]]\n",
      "\n",
      " [[ 7  8  9]\n",
      "  [10 11 12]]]\n"
     ]
    },
    {
     "data": {
      "text/plain": [
       "(2, 2, 3)"
      ]
     },
     "execution_count": 120,
     "metadata": {},
     "output_type": "execute_result"
    }
   ],
   "source": [
    "import numpy as np\n",
    "array3=np.array([[[1, 2, 3],[4, 5, 6]],\n",
    "                [[7,8,9],[10,11,12]]])\n",
    "print(array3)\n",
    "array3.shape"
   ]
  },
  {
   "cell_type": "code",
   "execution_count": 124,
   "id": "e481f665-8107-480a-83b8-1507674fdd4d",
   "metadata": {},
   "outputs": [
    {
     "name": "stdout",
     "output_type": "stream",
     "text": [
      "[10 20 30 40 50]\n"
     ]
    },
    {
     "data": {
      "text/plain": [
       "5"
      ]
     },
     "execution_count": 124,
     "metadata": {},
     "output_type": "execute_result"
    }
   ],
   "source": [
    "import numpy as np\n",
    "list1=[10,20,30,40,50]\n",
    "array1=np.array(list1)\n",
    "print(array1)\n",
    "array1.size"
   ]
  },
  {
   "cell_type": "code",
   "execution_count": 126,
   "id": "a0a969f7-264b-4ea1-a69b-199fe3536bae",
   "metadata": {},
   "outputs": [
    {
     "name": "stdout",
     "output_type": "stream",
     "text": [
      "[[10 20 30]\n",
      " [40 50 60]\n",
      " [70 80 90]]\n"
     ]
    },
    {
     "data": {
      "text/plain": [
       "9"
      ]
     },
     "execution_count": 126,
     "metadata": {},
     "output_type": "execute_result"
    }
   ],
   "source": [
    "import numpy as np\n",
    "list1=[[10,20,30],[40,50,60],[70,80,90]]\n",
    "array1=np.array(list1)\n",
    "print(array1)\n",
    "array1.size"
   ]
  },
  {
   "cell_type": "code",
   "execution_count": 128,
   "id": "4439f525-cbf9-426c-8139-f1c168d4549c",
   "metadata": {},
   "outputs": [
    {
     "name": "stdout",
     "output_type": "stream",
     "text": [
      "[[[ 1  2  3]\n",
      "  [ 4  5  6]]\n",
      "\n",
      " [[ 7  8  9]\n",
      "  [10 11 12]]]\n"
     ]
    },
    {
     "data": {
      "text/plain": [
       "9"
      ]
     },
     "execution_count": 128,
     "metadata": {},
     "output_type": "execute_result"
    }
   ],
   "source": [
    "import numpy as np\n",
    "array3=np.array([[[1, 2, 3],[4, 5, 6]],\n",
    "                [[7,8,9],[10,11,12]]])\n",
    "print(array3)\n",
    "array1.size"
   ]
  },
  {
   "cell_type": "code",
   "execution_count": 130,
   "id": "89733d74-a6ec-4a56-8e6a-72f43b2fc981",
   "metadata": {},
   "outputs": [
    {
     "name": "stdout",
     "output_type": "stream",
     "text": [
      "[10 20 30 40 50]\n"
     ]
    },
    {
     "data": {
      "text/plain": [
       "dtype('int32')"
      ]
     },
     "execution_count": 130,
     "metadata": {},
     "output_type": "execute_result"
    }
   ],
   "source": [
    "import numpy as np\n",
    "list1=[10,20,30,40,50]\n",
    "array1=np.array(list1)\n",
    "print(array1)\n",
    "array1.dtype"
   ]
  },
  {
   "cell_type": "code",
   "execution_count": 132,
   "id": "d7177640-9684-4475-ab90-7afc9ed7e1b9",
   "metadata": {},
   "outputs": [
    {
     "name": "stdout",
     "output_type": "stream",
     "text": [
      "[[10 20 30]\n",
      " [40 50 60]\n",
      " [70 80 90]]\n"
     ]
    },
    {
     "data": {
      "text/plain": [
       "dtype('int32')"
      ]
     },
     "execution_count": 132,
     "metadata": {},
     "output_type": "execute_result"
    }
   ],
   "source": [
    "import numpy as np\n",
    "list1=[[10,20,30],[40,50,60],[70,80,90]]\n",
    "array1=np.array(list1)\n",
    "print(array1)\n",
    "array1.size\n",
    "array1.dtype"
   ]
  },
  {
   "cell_type": "code",
   "execution_count": 134,
   "id": "ae22b5fe-243a-49fa-a54e-4d19e14afef5",
   "metadata": {},
   "outputs": [
    {
     "name": "stdout",
     "output_type": "stream",
     "text": [
      "[[[ 1  2  3]\n",
      "  [ 4  5  6]]\n",
      "\n",
      " [[ 7  8  9]\n",
      "  [10 11 12]]]\n"
     ]
    },
    {
     "data": {
      "text/plain": [
       "dtype('int32')"
      ]
     },
     "execution_count": 134,
     "metadata": {},
     "output_type": "execute_result"
    }
   ],
   "source": [
    "import numpy as np\n",
    "array3=np.array([[[1, 2, 3],[4, 5, 6]],\n",
    "                [[7,8,9],[10,11,12]]])\n",
    "print(array3)\n",
    "array1.dtype"
   ]
  },
  {
   "cell_type": "code",
   "execution_count": 136,
   "id": "5e4134ed-27ee-48d2-a58b-12fa05c7a058",
   "metadata": {},
   "outputs": [
    {
     "name": "stdout",
     "output_type": "stream",
     "text": [
      "[10 20 30 40 50]\n"
     ]
    },
    {
     "data": {
      "text/plain": [
       "4"
      ]
     },
     "execution_count": 136,
     "metadata": {},
     "output_type": "execute_result"
    }
   ],
   "source": [
    "import numpy as np\n",
    "list1=[10,20,30,40,50]\n",
    "array1=np.array(list1)\n",
    "print(array1)\n",
    "array1.itemsize"
   ]
  },
  {
   "cell_type": "code",
   "execution_count": 138,
   "id": "f73bffd2-8803-451c-9fae-5f7ba190d545",
   "metadata": {},
   "outputs": [
    {
     "name": "stdout",
     "output_type": "stream",
     "text": [
      "[[10 20 30]\n",
      " [40 50 60]\n",
      " [70 80 90]]\n"
     ]
    },
    {
     "data": {
      "text/plain": [
       "4"
      ]
     },
     "execution_count": 138,
     "metadata": {},
     "output_type": "execute_result"
    }
   ],
   "source": [
    "import numpy as np\n",
    "list1=[[10,20,30],[40,50,60],[70,80,90]]\n",
    "array1=np.array(list1)\n",
    "print(array1)\n",
    "array1.itemsize"
   ]
  },
  {
   "cell_type": "code",
   "execution_count": 140,
   "id": "2c417d3d-3c1c-4d35-b292-2213137f470f",
   "metadata": {},
   "outputs": [
    {
     "name": "stdout",
     "output_type": "stream",
     "text": [
      "[[[ 1  2  3]\n",
      "  [ 4  5  6]]\n",
      "\n",
      " [[ 7  8  9]\n",
      "  [10 11 12]]]\n"
     ]
    },
    {
     "data": {
      "text/plain": [
       "4"
      ]
     },
     "execution_count": 140,
     "metadata": {},
     "output_type": "execute_result"
    }
   ],
   "source": [
    "import numpy as np\n",
    "array3=np.array([[[1, 2, 3],[4, 5, 6]],\n",
    "                [[7,8,9],[10,11,12]]])\n",
    "print(array3)\n",
    "array1.itemsize"
   ]
  },
  {
   "cell_type": "code",
   "execution_count": null,
   "id": "8a32ad1f-8cfb-4cb6-a010-58511f63449b",
   "metadata": {},
   "outputs": [],
   "source": []
  }
 ],
 "metadata": {
  "kernelspec": {
   "display_name": "Python [conda env:base] *",
   "language": "python",
   "name": "conda-base-py"
  },
  "language_info": {
   "codemirror_mode": {
    "name": "ipython",
    "version": 3
   },
   "file_extension": ".py",
   "mimetype": "text/x-python",
   "name": "python",
   "nbconvert_exporter": "python",
   "pygments_lexer": "ipython3",
   "version": "3.12.7"
  }
 },
 "nbformat": 4,
 "nbformat_minor": 5
}
