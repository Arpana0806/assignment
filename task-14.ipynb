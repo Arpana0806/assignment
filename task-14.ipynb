{
 "cells": [
  {
   "cell_type": "markdown",
   "id": "12928466-ee57-4cc9-8bee-15465969d225",
   "metadata": {},
   "source": [
    "# import numpy as np"
   ]
  },
  {
   "cell_type": "code",
   "execution_count": null,
   "id": "28c570f6-e514-4e33-aa8b-a689fd3c3d63",
   "metadata": {},
   "outputs": [],
   "source": [
    "Array a: [1 2 3]"
   ]
  },
  {
   "cell_type": "code",
   "execution_count": 19,
   "id": "17b9bec2-0f48-4c69-a73c-0952347863f4",
   "metadata": {},
   "outputs": [
    {
     "name": "stdout",
     "output_type": "stream",
     "text": [
      "Array a: [1 2 3]\n"
     ]
    }
   ],
   "source": [
    "a=np.array([1,2,3])\n",
    "print(\"Array a:\",a)"
   ]
  },
  {
   "cell_type": "code",
   "execution_count": 9,
   "id": "0b3391fd-d5ea-49b0-b425-4edd27d2f749",
   "metadata": {},
   "outputs": [
    {
     "name": "stdout",
     "output_type": "stream",
     "text": [
      "Array b: [0 2 4 6 8]\n"
     ]
    }
   ],
   "source": [
    "b=np.arange(0,10,2)\n",
    "print(\"Array b:\",b)"
   ]
  },
  {
   "cell_type": "code",
   "execution_count": 11,
   "id": "1a3a0d8e-885e-4b01-806e-a7c521f2114b",
   "metadata": {},
   "outputs": [
    {
     "name": "stdout",
     "output_type": "stream",
     "text": [
      "Array c: [0.   0.25 0.5  0.75 1.  ]\n"
     ]
    }
   ],
   "source": [
    "c=np.linspace(0,1,5)\n",
    "print(\"Array c:\",c)"
   ]
  },
  {
   "cell_type": "code",
   "execution_count": 13,
   "id": "f3459468-0f81-4378-bff7-95644a3dc42b",
   "metadata": {},
   "outputs": [
    {
     "name": "stdout",
     "output_type": "stream",
     "text": [
      "Array d:\n",
      " [[0. 0. 0.]\n",
      " [0. 0. 0.]]\n"
     ]
    }
   ],
   "source": [
    "d=np.zeros((2,3))\n",
    "print(\"Array d:\\n\",d)"
   ]
  },
  {
   "cell_type": "code",
   "execution_count": 15,
   "id": "8676a2b2-895a-4abf-a43d-c45d7dd650c8",
   "metadata": {},
   "outputs": [
    {
     "name": "stdout",
     "output_type": "stream",
     "text": [
      "Array e:\n",
      " [[1. 1.]\n",
      " [1. 1.]\n",
      " [1. 1.]]\n"
     ]
    }
   ],
   "source": [
    "e=np.ones((3,2))\n",
    "print(\"Array e:\\n\",e)"
   ]
  },
  {
   "cell_type": "code",
   "execution_count": 17,
   "id": "29396cd1-b79b-4beb-8869-71315faaf492",
   "metadata": {},
   "outputs": [
    {
     "name": "stdout",
     "output_type": "stream",
     "text": [
      "identity matrix f:\n",
      " [[1. 0. 0. 0.]\n",
      " [0. 1. 0. 0.]\n",
      " [0. 0. 1. 0.]\n",
      " [0. 0. 0. 1.]]\n"
     ]
    }
   ],
   "source": [
    "f=np.eye(4)\n",
    "print(\"identity matrix f:\\n\",f)"
   ]
  },
  {
   "cell_type": "code",
   "execution_count": 21,
   "id": "c841a578-c2e0-43e7-8d47-a1bc3494c7f7",
   "metadata": {},
   "outputs": [
    {
     "name": "stdout",
     "output_type": "stream",
     "text": [
      "reshaped array: [[1 2 3]]\n"
     ]
    }
   ],
   "source": [
    "#Reshape an array\n",
    "a1=np.array([1,2,3])\n",
    "reshaped=np.reshape(a1,(1,3))\n",
    "print(\"reshaped array:\",reshaped)"
   ]
  },
  {
   "cell_type": "code",
   "execution_count": 23,
   "id": "82a37442-b9d5-49dc-8156-fa3d716284f1",
   "metadata": {},
   "outputs": [
    {
     "name": "stdout",
     "output_type": "stream",
     "text": [
      "flattened array: [1 2 3 4]\n"
     ]
    }
   ],
   "source": [
    "#flatten an array\n",
    "f1=np.array([[1,2],[3,4]])\n",
    "flattened=np.ravel(f1)\n",
    "print(\"flattened array:\",flattened)"
   ]
  },
  {
   "cell_type": "code",
   "execution_count": 16,
   "id": "44cca38a-0976-43b7-b973-f4d6dcaa8da1",
   "metadata": {},
   "outputs": [
    {
     "name": "stdout",
     "output_type": "stream",
     "text": [
      "transposed array:\n",
      " [[1 3]\n",
      " [2 4]]\n"
     ]
    }
   ],
   "source": [
    "#transpose an array\n",
    "import numpy as np\n",
    "e1=np.array([[1,2],[3,4]])\n",
    "transposed=np.transpose(e1) \n",
    "print(\"transposed array:\\n\",transposed)"
   ]
  },
  {
   "cell_type": "code",
   "execution_count": 18,
   "id": "a2953be5-4182-4fb9-bf87-06f696d8ecfc",
   "metadata": {},
   "outputs": [
    {
     "name": "stdout",
     "output_type": "stream",
     "text": [
      "stacked arrays:\n",
      " [[1 2]\n",
      " [3 4]]\n"
     ]
    }
   ],
   "source": [
    "#stack arrays vertically\n",
    "import numpy as np\n",
    "a2=np.array([1,2])\n",
    "b2=np.array([3,4])\n",
    "stacked=np.vstack([a2,b2])\n",
    "print(\"stacked arrays:\\n\",stacked)"
   ]
  },
  {
   "cell_type": "code",
   "execution_count": 20,
   "id": "ea114d7b-8c1a-4a37-8c1a-c3cc4aa76c4b",
   "metadata": {},
   "outputs": [
    {
     "name": "stdout",
     "output_type": "stream",
     "text": [
      "added 2 to g: [3 4 5 6]\n"
     ]
    }
   ],
   "source": [
    "#add two arrays\n",
    "import numpy as np\n",
    "g=np.array([1,2,3,4])\n",
    "added=np.add(g,2)\n",
    "print(\"added 2 to g:\",added)"
   ]
  },
  {
   "cell_type": "code",
   "execution_count": 22,
   "id": "95fa5082-6a93-449e-81c5-399fa667c04f",
   "metadata": {},
   "outputs": [
    {
     "name": "stdout",
     "output_type": "stream",
     "text": [
      "squared g: [ 1  4  9 16]\n"
     ]
    }
   ],
   "source": [
    "#square each element \n",
    "import numpy as np\n",
    "squared=np.power(g,2) \n",
    "print(\"squared g:\",squared)"
   ]
  },
  {
   "cell_type": "code",
   "execution_count": 24,
   "id": "fe396439-7821-4034-ab6e-b4090b0c08e1",
   "metadata": {},
   "outputs": [
    {
     "name": "stdout",
     "output_type": "stream",
     "text": [
      "square root of g: [1.         1.41421356 1.73205081 2.        ]\n"
     ]
    }
   ],
   "source": [
    "import numpy as np\n",
    "sqrt_val=np.sqrt(g)\n",
    "print(\"square root of g:\",sqrt_val)"
   ]
  },
  {
   "cell_type": "code",
   "execution_count": 30,
   "id": "4b30071b-b3a9-4d89-a0d2-5c02f8070332",
   "metadata": {},
   "outputs": [
    {
     "name": "stdout",
     "output_type": "stream",
     "text": [
      "[1 2 3]\n",
      "[1 2 3]\n"
     ]
    }
   ],
   "source": [
    "a=np.array([1,2,3])\n",
    "a1=np.array([1,2,3])\n",
    "print(a)\n",
    "print(a1)"
   ]
  },
  {
   "cell_type": "code",
   "execution_count": 32,
   "id": "f740888e-4c37-4821-95ac-b5120139d208",
   "metadata": {},
   "outputs": [
    {
     "name": "stdout",
     "output_type": "stream",
     "text": [
      "dot product of a1 and a: 14\n"
     ]
    }
   ],
   "source": [
    "import numpy as np\n",
    "a3=np.array([1,2,3])\n",
    "dot_product=np.dot(a1,a)\n",
    "print(\"dot product of a1 and a:\",dot_product)"
   ]
  },
  {
   "cell_type": "code",
   "execution_count": 40,
   "id": "cafe4064-6702-49fe-a87a-58e40b61425c",
   "metadata": {},
   "outputs": [
    {
     "name": "stdout",
     "output_type": "stream",
     "text": [
      "mean of s: 2.5\n"
     ]
    }
   ],
   "source": [
    "#mean of array\n",
    "import numpy as np\n",
    "s=np.array([1,2,3,4])\n",
    "mean=np.mean(s)\n",
    "print(\"mean of s:\",mean)"
   ]
  },
  {
   "cell_type": "code",
   "execution_count": 42,
   "id": "d79f69fe-2446-47b4-b1b1-31744b7063fe",
   "metadata": {},
   "outputs": [
    {
     "name": "stdout",
     "output_type": "stream",
     "text": [
      "standard deviation of s: 1.118033988749895\n"
     ]
    }
   ],
   "source": [
    "#standard deviatin of an array\n",
    "import numpy as np\n",
    "std_dev=np.std(s)\n",
    "print(\"standard deviation of s:\",std_dev)"
   ]
  },
  {
   "cell_type": "code",
   "execution_count": 44,
   "id": "e5392c03-4d36-4feb-b095-8c49e3148af5",
   "metadata": {},
   "outputs": [
    {
     "name": "stdout",
     "output_type": "stream",
     "text": [
      "min of s: 1\n"
     ]
    }
   ],
   "source": [
    "#minimize element of an array\n",
    "import numpy as np\n",
    "minimum=np.min(s)\n",
    "print(\"min of s:\",minimum)"
   ]
  },
  {
   "cell_type": "code",
   "execution_count": 46,
   "id": "886e90b4-233c-48f9-b717-2a40b10f176f",
   "metadata": {},
   "outputs": [
    {
     "name": "stdout",
     "output_type": "stream",
     "text": [
      "max of s: 4\n"
     ]
    }
   ],
   "source": [
    "#maximum element of an array\n",
    "import numpy as np\n",
    "maximum=np.max(s)\n",
    "print(\"max of s:\",maximum)"
   ]
  },
  {
   "cell_type": "code",
   "execution_count": 50,
   "id": "7c30d994-3dae-46fa-8967-4e3a2dbf6379",
   "metadata": {},
   "outputs": [
    {
     "name": "stdout",
     "output_type": "stream",
     "text": [
      "matrix: [[1 2]\n",
      " [3 4]]\n"
     ]
    }
   ],
   "source": [
    "#create a matrix\n",
    "import numpy as np\n",
    "matrix=np.array([[1,2],[3,4]])\n",
    "print(\"matrix:\",matrix)"
   ]
  },
  {
   "cell_type": "code",
   "execution_count": 52,
   "id": "ebbea5bd-aa95-4101-9ec3-122182be6799",
   "metadata": {},
   "outputs": [
    {
     "name": "stdout",
     "output_type": "stream",
     "text": [
      "determinant of matrix: -2.0000000000000004\n"
     ]
    }
   ],
   "source": [
    "#determinant of a matrix\n",
    "import numpy as np\n",
    "determinant=np.linalg.det(matrix)\n",
    "print(\"determinant of matrix:\",determinant)"
   ]
  },
  {
   "cell_type": "code",
   "execution_count": 54,
   "id": "c04d5e34-0f10-4fd8-8f07-64cefe35a261",
   "metadata": {},
   "outputs": [
    {
     "name": "stdout",
     "output_type": "stream",
     "text": [
      "inverse of matrix:\n",
      " [[-2.   1. ]\n",
      " [ 1.5 -0.5]]\n"
     ]
    }
   ],
   "source": [
    "#inverse of a matrix\n",
    "import numpy as np\n",
    "inverse=np.linalg.inv(matrix)\n",
    "print(\"inverse of matrix:\\n\",inverse)"
   ]
  },
  {
   "cell_type": "code",
   "execution_count": null,
   "id": "f2a773a8-0ab2-41ef-a8ae-e163a2b121d4",
   "metadata": {},
   "outputs": [],
   "source": []
  }
 ],
 "metadata": {
  "kernelspec": {
   "display_name": "Python [conda env:base] *",
   "language": "python",
   "name": "conda-base-py"
  },
  "language_info": {
   "codemirror_mode": {
    "name": "ipython",
    "version": 3
   },
   "file_extension": ".py",
   "mimetype": "text/x-python",
   "name": "python",
   "nbconvert_exporter": "python",
   "pygments_lexer": "ipython3",
   "version": "3.12.7"
  }
 },
 "nbformat": 4,
 "nbformat_minor": 5
}
